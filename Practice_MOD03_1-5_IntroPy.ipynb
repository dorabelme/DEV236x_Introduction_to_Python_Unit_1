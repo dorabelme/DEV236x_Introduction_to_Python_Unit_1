{
  "cells": [
    {
      "metadata": {},
      "cell_type": "markdown",
      "source": "# 1-5 Intro Python Practice  \n## conditionals, type, and mathematics extended   \n&nbsp;\n<font size=\"5\" color=\"#00A0B2\"  face=\"verdana\"> <B>Student will be able to</B></font>  \n- code more than two choices using **`elif`** \n- gather numeric input using type casting  \n- perform subtraction, multiplication and division operations in code  &nbsp;  \n"
    },
    {
      "metadata": {},
      "cell_type": "markdown",
      "source": "# &nbsp;  \n<font size=\"6\" color=\"#B24C00\"  face=\"verdana\"> <B>Tasks</B></font>"
    },
    {
      "metadata": {},
      "cell_type": "markdown",
      "source": "### Rainbow colors\nask for input of a favorite rainbow color first letter: ROYGBIV  \n\nUsing `if`, `elif`, and `else`:  \n- print the color matching the letter  \n    - R = Red  \n    - O = Orange  \n    - Y = Yellow  \n    - G = Green\n    - B = Blue\n    - I = Indigo\n    - V = Violet\n    - else print \"no match\"\n"
    },
    {
      "metadata": {
        "trusted": true
      },
      "cell_type": "code",
      "source": "# [ ] complete rainbow colors\nrainbow_color = input(\"what's your favorite rainbow color?\")\nif rainbow_color.upper().startswith(\"R\"):\n    print(\"R = Red\")\nelif rainbow_color.upper().startswith(\"O\"):\n    print(\"O = Orange\")\nelif rainbow_color.upper().startswith(\"Y\"):\n    print(\"Y = Yellow\")\nelif rainbow_color.upper().startswith(\"G\"):\n    print(\"G = Green\")\nelif rainbow_color.upper().startswith(\"B\"):\n    print(\"B = Blue\")\nelif rainbow_color.upper().startswith(\"I\"):\n    print(\"I = Indigo\")\nelif rainbow_color.upper().startswith(\"V\"):\n    print(\"V = Violet\")\nelse:\n    print(\"No match.\")\n",
      "execution_count": 1,
      "outputs": [
        {
          "output_type": "stream",
          "name": "stdout",
          "text": "what's your favorite rainbow color?yellow\nY = Yellow\n"
        }
      ]
    },
    {
      "metadata": {
        "trusted": true
      },
      "cell_type": "code",
      "source": "# [ ] make the code above into a function rainbow_color() that has a string parameter, \n# get input and call the function and return the matching color as a string or \"no match\" message.\n# Call the function and print the return string.\ndef rainbow_color(rainbow_color):\n    if rainbow_color.upper().startswith(\"R\"):\n        print(\"R = Red\")\n    elif rainbow_color.upper().startswith(\"O\"):\n        print(\"O = Orange\")\n    elif rainbow_color.upper().startswith(\"Y\"):\n        print(\"Y = Yellow\")\n    elif rainbow_color.upper().startswith(\"G\"):\n        print(\"G = Green\")\n    elif rainbow_color.upper().startswith(\"B\"):\n        print(\"B = Blue\")\n    elif rainbow_color.upper().startswith(\"I\"):\n        print(\"I = Indigo\")\n    elif rainbow_color.upper().startswith(\"V\"):\n        print(\"V = Violet\")\n    else:\n        print(\"No match.\")\n\nuser_input = input(\"what is your favorite rainbow color? \")\nrainbow_color(user_input)\n",
      "execution_count": 2,
      "outputs": [
        {
          "output_type": "stream",
          "name": "stdout",
          "text": "what is your favorite rainbow color? red\nR = Red\n"
        }
      ]
    },
    {
      "metadata": {},
      "cell_type": "markdown",
      "source": "# &nbsp;  \n**Create function age_20() that adds or subtracts 20 from your age for a return value based on current age** (use `if`) \n- call the funtion with user input and then use the return value in a sentence  \nexample `age_20(25)` returns **5**: \n> \"5 years old, 20 years difference from now\""
    },
    {
      "metadata": {
        "trusted": true
      },
      "cell_type": "code",
      "source": "# [ ] complete age_20()\ndef age_20(age):\n    if int(age) > 40:\n        print(int(age)-20, \"years old, 20 years difference from now\")\n    else:\n        print(int(age)+20, \"years old, 20 years difference from now\")\n\nyour_age = input(\"what's your age? \")\nage_20(your_age)",
      "execution_count": 3,
      "outputs": [
        {
          "output_type": "stream",
          "name": "stdout",
          "text": "what's your age? 45\n25 years old, 20 years difference from now\n"
        }
      ]
    },
    {
      "metadata": {},
      "cell_type": "markdown",
      "source": "**create a function rainbow_or_age that takes a string argument**\n- if argument is a digit return the value of calling age_20() with the str value cast as **`int`** \n- if argument is an alphabetical character return the value of calling rainbow_color() with the str\n- if neither return FALSE"
    },
    {
      "metadata": {
        "trusted": true
      },
      "cell_type": "code",
      "source": "# [ ]  create rainbow_or_age()\ndef rainbow_or_age(user_input):\n    if user_input.isdigit():\n        return age_20(user_input)\n    elif user_input.isalpha():\n        return rainbow_color(user_input)\n    else:\n        return False\n\nrainbow_or_age('20')\n",
      "execution_count": 33,
      "outputs": [
        {
          "output_type": "stream",
          "text": "40 years old, 20 years difference from now\n",
          "name": "stdout"
        }
      ]
    },
    {
      "metadata": {
        "trusted": true
      },
      "cell_type": "code",
      "source": "# [ ]  add 2 numbers from input using a cast to integer and display the answer \nnumber_1 = input('Enter a number: ')\nnumber_2 = input('Enter another number: ')\n\nresult = int(number_1) + int(number_2)\nprint(\"The sum of the two numbers is\", result)\n",
      "execution_count": 11,
      "outputs": [
        {
          "output_type": "stream",
          "name": "stdout",
          "text": "Enter a number: 50\nEnter another number: 20\nThe sum of the two numbers is 70\n"
        }
      ]
    },
    {
      "metadata": {
        "trusted": true
      },
      "cell_type": "code",
      "source": "# [ ] Multiply 2 numbers from input using cast and save the answer as part of a string \"the answer is...\"\n# display the string using print\nnumber_1 = input('Enter a number: ')\nnumber_2 = input('Enter another number: ')\n\nresult = \"The answer is \" + (str(int(number_1) * int(number_2)))\nprint(result)\n",
      "execution_count": 14,
      "outputs": [
        {
          "output_type": "stream",
          "name": "stdout",
          "text": "Enter a number: 10\nEnter another number: 10\nThe answer is 100\n"
        }
      ]
    },
    {
      "metadata": {
        "trusted": true
      },
      "cell_type": "code",
      "source": "# [ ] get input of 2 numbers and display the average: (num1 + num2) divided by 2\nnumber_1 = input('Enter a number: ')\nnumber_2 = input('Enter another number: ')\n\naverage = (int(number_1) + int(number_2)) / 2\nprint(\"The average of the two numbers is\", average)\n",
      "execution_count": 15,
      "outputs": [
        {
          "output_type": "stream",
          "name": "stdout",
          "text": "Enter a number: 40\nEnter another number: 10\nThe average of the two numbers is 25.0\n"
        }
      ]
    },
    {
      "metadata": {
        "trusted": true
      },
      "cell_type": "code",
      "source": "# [ ] get input of 2 numbers and subtract the largest from the smallest (use an if statement to see which is larger)\n# show the ans16wer\nnumber_1 = int(input('Enter a number: '))\nnumber_2 = int(input('Enter another number: '))\n\nif number_1 > number_2:\n    result = int(number_1) - int(number_2)\nelse:\n    result = int(number_2) - int(number_1)\n\n\nprint(\"The difference of the two numbers is\", result)\n",
      "execution_count": 32,
      "outputs": [
        {
          "output_type": "stream",
          "name": "stdout",
          "text": "Enter a number: 15\nEnter another number: 30\nThe difference of the two numbers is 15\n"
        }
      ]
    },
    {
      "metadata": {
        "trusted": true
      },
      "cell_type": "code",
      "source": "# [ ] Divide a larger number by a smaller number and print the integer part of the result\n# don't divide by zero! if a zero is input make the result zero\n# [ ] cast the answer to an integer to cut off the decimals and print the result\nnumber_1 = int(input('Enter a number: '))\nnumber_2 = int(input('Enter another number: '))\n\ndef division_fn(number_1, number_2):\n    if number_1 == 0 or number_2 == 0:\n        return 0\n    elif number_1 > number_2:\n        return number_1 / number_2\n    else:\n        return number_2 / number_1\n\nresult = division_fn(number_1, number_2)\n\nprint(\"The result of dividing the two numbers is\", int(result))\n\n\n",
      "execution_count": 42,
      "outputs": [
        {
          "output_type": "stream",
          "name": "stdout",
          "text": "Enter a number: 15\nEnter another number: 5\nThe result of dividing the two numbers is 3\n"
        }
      ]
    },
    {
      "metadata": {},
      "cell_type": "markdown",
      "source": "[Terms of use](http://go.microsoft.com/fwlink/?LinkID=206977) &nbsp; [Privacy & cookies](https://go.microsoft.com/fwlink/?LinkId=521839) &nbsp; © 2017 Microsoft"
    },
    {
      "metadata": {
        "trusted": true
      },
      "cell_type": "code",
      "source": "",
      "execution_count": null,
      "outputs": []
    }
  ],
  "metadata": {
    "anaconda-cloud": {},
    "kernelspec": {
      "name": "python3",
      "display_name": "Python 3",
      "language": "python"
    },
    "language_info": {
      "mimetype": "text/x-python",
      "nbconvert_exporter": "python",
      "name": "python",
      "file_extension": ".py",
      "version": "3.5.4",
      "pygments_lexer": "ipython3",
      "codemirror_mode": {
        "version": 3,
        "name": "ipython"
      }
    }
  },
  "nbformat": 4,
  "nbformat_minor": 1
}